{
 "cells": [
  {
   "cell_type": "markdown",
   "metadata": {},
   "source": [
    "# Read and write to Google Sheets with Python"
   ]
  },
  {
   "cell_type": "markdown",
   "metadata": {},
   "source": [
    "## Setup"
   ]
  },
  {
   "cell_type": "markdown",
   "metadata": {},
   "source": [
    "Install the necessary Google Python libraries:\n",
    "\n",
    "```sh\n",
    "pip install — upgrade google-api-python-client google-auth-httplib2 google-auth-oauthlib\n",
    "```"
   ]
  },
  {
   "cell_type": "code",
   "execution_count": 1,
   "metadata": {},
   "outputs": [],
   "source": [
    "# Import standard libraries\n",
    "import pandas as pd\n",
    "import numpy as np\n",
    "import pickle\n",
    "import os\n",
    "\n",
    "# Import Google API libraries\n",
    "from googleapiclient import discovery\n",
    "from google_auth_oauthlib.flow import InstalledAppFlow\n",
    "from google.auth.transport.requests import Request"
   ]
  },
  {
   "cell_type": "markdown",
   "metadata": {},
   "source": [
    "## Connection"
   ]
  },
  {
   "cell_type": "markdown",
   "metadata": {},
   "source": [
    "Enable the Google Sheets API for your account and download credentials as a JSON file, by following [these steps](https://developers.google.com/sheets/api/quickstart/python#step_1_turn_on_the)."
   ]
  },
  {
   "cell_type": "code",
   "execution_count": 2,
   "metadata": {},
   "outputs": [],
   "source": [
    "# Function to generate user token\n",
    "def gsheet_api_check(SCOPES, TOKEN, CREDENTIALS):\n",
    "    creds = None\n",
    "    if os.path.exists(TOKEN):\n",
    "        with open(TOKEN, 'rb') as token:\n",
    "            creds = pickle.load(token)\n",
    "    if not creds or not creds.valid:\n",
    "        if creds and creds.expired and creds.refresh_token:\n",
    "            creds.refresh(Request())\n",
    "        else:\n",
    "            flow = InstalledAppFlow.from_client_secrets_file(CREDENTIALS, SCOPES)\n",
    "            creds = flow.run_console()\n",
    "        with open(TOKEN, 'wb') as token:\n",
    "            pickle.dump(creds, token)\n",
    "    return creds\n",
    "\n",
    "# Connect to Google Sheets API v4\n",
    "SCOPES = ['https://www.googleapis.com/auth/spreadsheets']   # Allow read and write to Google Sheets\n",
    "TOKEN = 'data/gsheet_token.pickle'\n",
    "CREDENTIALS = 'data/gsheet_credentials.json'\n",
    "CREDS = gsheet_api_check(SCOPES, TOKEN, CREDENTIALS)"
   ]
  },
  {
   "cell_type": "code",
   "execution_count": 3,
   "metadata": {},
   "outputs": [],
   "source": [
    "# Connect to the service\n",
    "service = discovery.build('sheets', 'v4', credentials=CREDS)\n",
    "SPREADSHEET_ID = '1c0HS6Wc09bri6vvQQds3zVMGvXNbYJ3gKY5wtyaAYxI'   # Found in the Google Sheet URL\n",
    "RANGE = 'Sheet1!A:Z'   # Tab and cells range to be read and/or written"
   ]
  },
  {
   "cell_type": "markdown",
   "metadata": {},
   "source": [
    "## Read from a Google Sheet"
   ]
  },
  {
   "cell_type": "code",
   "execution_count": 4,
   "metadata": {},
   "outputs": [
    {
     "data": {
      "text/html": [
       "<div>\n",
       "<style scoped>\n",
       "    .dataframe tbody tr th:only-of-type {\n",
       "        vertical-align: middle;\n",
       "    }\n",
       "\n",
       "    .dataframe tbody tr th {\n",
       "        vertical-align: top;\n",
       "    }\n",
       "\n",
       "    .dataframe thead th {\n",
       "        text-align: right;\n",
       "    }\n",
       "</style>\n",
       "<table border=\"1\" class=\"dataframe\">\n",
       "  <thead>\n",
       "    <tr style=\"text-align: right;\">\n",
       "      <th></th>\n",
       "      <th>0</th>\n",
       "      <th>1</th>\n",
       "      <th>2</th>\n",
       "      <th>3</th>\n",
       "    </tr>\n",
       "  </thead>\n",
       "  <tbody>\n",
       "    <tr>\n",
       "      <th>0</th>\n",
       "      <td>A</td>\n",
       "      <td>B</td>\n",
       "      <td>C</td>\n",
       "      <td>D</td>\n",
       "    </tr>\n",
       "    <tr>\n",
       "      <th>1</th>\n",
       "      <td>0,206</td>\n",
       "      <td>0,661</td>\n",
       "      <td>None</td>\n",
       "      <td>None</td>\n",
       "    </tr>\n",
       "    <tr>\n",
       "      <th>2</th>\n",
       "      <td>0,144</td>\n",
       "      <td>0,157</td>\n",
       "      <td>None</td>\n",
       "      <td>None</td>\n",
       "    </tr>\n",
       "    <tr>\n",
       "      <th>3</th>\n",
       "      <td>0,733</td>\n",
       "      <td>0,094</td>\n",
       "      <td>None</td>\n",
       "      <td>None</td>\n",
       "    </tr>\n",
       "    <tr>\n",
       "      <th>4</th>\n",
       "      <td>0,18</td>\n",
       "      <td>0,607</td>\n",
       "      <td>None</td>\n",
       "      <td>None</td>\n",
       "    </tr>\n",
       "    <tr>\n",
       "      <th>5</th>\n",
       "      <td>0,321</td>\n",
       "      <td>0,541</td>\n",
       "      <td>None</td>\n",
       "      <td>None</td>\n",
       "    </tr>\n",
       "  </tbody>\n",
       "</table>\n",
       "</div>"
      ],
      "text/plain": [
       "       0      1     2     3\n",
       "0      A      B     C     D\n",
       "1  0,206  0,661  None  None\n",
       "2  0,144  0,157  None  None\n",
       "3  0,733  0,094  None  None\n",
       "4   0,18  0,607  None  None\n",
       "5  0,321  0,541  None  None"
      ]
     },
     "execution_count": 4,
     "metadata": {},
     "output_type": "execute_result"
    }
   ],
   "source": [
    "# Read from a Google Sheet\n",
    "request = service.spreadsheets().values().get(\n",
    "    spreadsheetId=SPREADSHEET_ID, \n",
    "    range=RANGE\n",
    ")\n",
    "response = request.execute()\n",
    "\n",
    "# Convert data to a pandas DataFrame\n",
    "pd.DataFrame(response.get('values', []))"
   ]
  },
  {
   "cell_type": "markdown",
   "metadata": {},
   "source": [
    "## Write a pandas DataFrame to a Google Sheet"
   ]
  },
  {
   "cell_type": "code",
   "execution_count": 5,
   "metadata": {},
   "outputs": [],
   "source": [
    "# Optional: clear data on a Sheet range\n",
    "request = service.spreadsheets().values().clear(\n",
    "    spreadsheetId=SPREADSHEET_ID, \n",
    "    range=RANGE\n",
    ")\n",
    "response = request.execute()"
   ]
  },
  {
   "cell_type": "code",
   "execution_count": 7,
   "metadata": {},
   "outputs": [],
   "source": [
    "# Create DataFrame to be written to the Google Sheet\n",
    "df = pd.DataFrame(np.random.random(size=(5, 4)), columns=list('ABCD')).round(3)\n",
    "\n",
    "# Convert DataFrame to a list of rows, with the columns names as first row\n",
    "value_range_body = {\n",
    "  \"values\": [list(df.columns)] + df.values.tolist()\n",
    "}\n",
    "\n",
    "# Write data to the Google Sheet\n",
    "request = service.spreadsheets().values().update(\n",
    "    spreadsheetId=SPREADSHEET_ID, \n",
    "    range=RANGE, \n",
    "    valueInputOption='RAW', \n",
    "    body=value_range_body)\n",
    "response = request.execute()"
   ]
  }
 ],
 "metadata": {
  "kernelspec": {
   "display_name": "Python 3",
   "language": "python",
   "name": "python3"
  },
  "language_info": {
   "codemirror_mode": {
    "name": "ipython",
    "version": 3
   },
   "file_extension": ".py",
   "mimetype": "text/x-python",
   "name": "python",
   "nbconvert_exporter": "python",
   "pygments_lexer": "ipython3",
   "version": "3.7.8"
  }
 },
 "nbformat": 4,
 "nbformat_minor": 4
}
