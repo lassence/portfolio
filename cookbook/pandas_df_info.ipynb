{
 "cells": [
  {
   "cell_type": "markdown",
   "id": "cardiac-appendix",
   "metadata": {},
   "source": [
    "# Options for DataFrame *info()*"
   ]
  },
  {
   "cell_type": "markdown",
   "id": "convertible-thesaurus",
   "metadata": {},
   "source": [
    "When working with DataFrames, perhaps the most commonly used function to get information about your data is `info()`. This function has a [few parameters](https://pandas.pydata.org/pandas-docs/stable/reference/api/pandas.DataFrame.info.html) that can be useful, particularily when working with large datasets."
   ]
  },
  {
   "cell_type": "code",
   "execution_count": 1,
   "id": "inclusive-navigator",
   "metadata": {},
   "outputs": [],
   "source": [
    "# Import libraries\n",
    "import pandas as pd"
   ]
  },
  {
   "cell_type": "code",
   "execution_count": 2,
   "id": "polish-original",
   "metadata": {},
   "outputs": [],
   "source": [
    "%%bigquery df\n",
    "# Get large sample data\n",
    "SELECT *\n",
    "FROM `bigquery-public-data.hacker_news.stories`"
   ]
  },
  {
   "cell_type": "markdown",
   "id": "sixth-small",
   "metadata": {},
   "source": [
    "## Without parameters"
   ]
  },
  {
   "cell_type": "markdown",
   "id": "pediatric-mobile",
   "metadata": {},
   "source": [
    "Printing information without any options will indicate a memory usage of 179MB. \n",
    "Also, note that it doesn't display the number of non-Null values for each column, because this dataset is too large."
   ]
  },
  {
   "cell_type": "code",
   "execution_count": 3,
   "id": "loved-brand",
   "metadata": {},
   "outputs": [
    {
     "name": "stdout",
     "output_type": "stream",
     "text": [
      "<class 'pandas.core.frame.DataFrame'>\n",
      "RangeIndex: 1959809 entries, 0 to 1959808\n",
      "Data columns (total 12 columns):\n",
      " #   Column       Dtype              \n",
      "---  ------       -----              \n",
      " 0   id           int64              \n",
      " 1   by           object             \n",
      " 2   score        float64            \n",
      " 3   time         float64            \n",
      " 4   time_ts      datetime64[ns, UTC]\n",
      " 5   title        object             \n",
      " 6   url          object             \n",
      " 7   text         object             \n",
      " 8   deleted      object             \n",
      " 9   dead         object             \n",
      " 10  descendants  float64            \n",
      " 11  author       object             \n",
      "dtypes: datetime64[ns, UTC](1), float64(3), int64(1), object(7)\n",
      "memory usage: 179.4+ MB\n"
     ]
    }
   ],
   "source": [
    "# Basic usage without parameters\n",
    "df.info()"
   ]
  },
  {
   "cell_type": "markdown",
   "id": "defined-angle",
   "metadata": {},
   "source": [
    "## Real memory usage"
   ]
  },
  {
   "cell_type": "markdown",
   "id": "functional-bridge",
   "metadata": {},
   "source": [
    "Specifying `memory_usage='deep'` will enable deep memory introspection, and show real memory usage, which is often much higher than the standard estimation. In this example, it is five times higher than previously estimated."
   ]
  },
  {
   "cell_type": "code",
   "execution_count": 4,
   "id": "neither-destination",
   "metadata": {},
   "outputs": [
    {
     "name": "stdout",
     "output_type": "stream",
     "text": [
      "<class 'pandas.core.frame.DataFrame'>\n",
      "RangeIndex: 1959809 entries, 0 to 1959808\n",
      "Data columns (total 12 columns):\n",
      " #   Column       Dtype              \n",
      "---  ------       -----              \n",
      " 0   id           int64              \n",
      " 1   by           object             \n",
      " 2   score        float64            \n",
      " 3   time         float64            \n",
      " 4   time_ts      datetime64[ns, UTC]\n",
      " 5   title        object             \n",
      " 6   url          object             \n",
      " 7   text         object             \n",
      " 8   deleted      object             \n",
      " 9   dead         object             \n",
      " 10  descendants  float64            \n",
      " 11  author       object             \n",
      "dtypes: datetime64[ns, UTC](1), float64(3), int64(1), object(7)\n",
      "memory usage: 1007.3 MB\n"
     ]
    }
   ],
   "source": [
    "# Full memory usage\n",
    "df.info(memory_usage='deep')"
   ]
  },
  {
   "cell_type": "markdown",
   "id": "desperate-vulnerability",
   "metadata": {},
   "source": [
    "## Force count of Null values"
   ]
  },
  {
   "cell_type": "markdown",
   "id": "meaningful-destination",
   "metadata": {},
   "source": [
    "On large datasets, counting Null values in each columns is deactivated, to avoid lengthy calculation. To force the display, set `show_counts=True`."
   ]
  },
  {
   "cell_type": "code",
   "execution_count": 5,
   "id": "biblical-pizza",
   "metadata": {},
   "outputs": [
    {
     "name": "stdout",
     "output_type": "stream",
     "text": [
      "<class 'pandas.core.frame.DataFrame'>\n",
      "RangeIndex: 1959809 entries, 0 to 1959808\n",
      "Data columns (total 12 columns):\n",
      " #   Column       Non-Null Count    Dtype              \n",
      "---  ------       --------------    -----              \n",
      " 0   id           1959809 non-null  int64              \n",
      " 1   by           1841269 non-null  object             \n",
      " 2   score        1841269 non-null  float64            \n",
      " 3   time         1934088 non-null  float64            \n",
      " 4   time_ts      1934088 non-null  datetime64[ns, UTC]\n",
      " 5   title        1841267 non-null  object             \n",
      " 6   url          1839757 non-null  object             \n",
      " 7   text         1425167 non-null  object             \n",
      " 8   deleted      92818 non-null    object             \n",
      " 9   dead         394344 non-null   object             \n",
      " 10  descendants  1741598 non-null  float64            \n",
      " 11  author       1841269 non-null  object             \n",
      "dtypes: datetime64[ns, UTC](1), float64(3), int64(1), object(7)\n",
      "memory usage: 179.4+ MB\n"
     ]
    }
   ],
   "source": [
    "# Force Null values counting\n",
    "df.info(show_counts=True)"
   ]
  },
  {
   "cell_type": "markdown",
   "id": "capital-national",
   "metadata": {},
   "source": [
    "## Compact mode"
   ]
  },
  {
   "cell_type": "markdown",
   "id": "foreign-dependence",
   "metadata": {},
   "source": [
    "If you don't want to display the full summary with details about each columns, use the compact mode with `verbose=False`."
   ]
  },
  {
   "cell_type": "code",
   "execution_count": 6,
   "id": "toxic-integrity",
   "metadata": {},
   "outputs": [
    {
     "name": "stdout",
     "output_type": "stream",
     "text": [
      "<class 'pandas.core.frame.DataFrame'>\n",
      "RangeIndex: 1959809 entries, 0 to 1959808\n",
      "Columns: 12 entries, id to author\n",
      "dtypes: datetime64[ns, UTC](1), float64(3), int64(1), object(7)\n",
      "memory usage: 179.4+ MB\n"
     ]
    }
   ],
   "source": [
    "# Non verbose mode\n",
    "df.info(verbose=False)"
   ]
  }
 ],
 "metadata": {
  "kernelspec": {
   "display_name": "Python 3",
   "language": "python",
   "name": "python3"
  },
  "language_info": {
   "codemirror_mode": {
    "name": "ipython",
    "version": 3
   },
   "file_extension": ".py",
   "mimetype": "text/x-python",
   "name": "python",
   "nbconvert_exporter": "python",
   "pygments_lexer": "ipython3",
   "version": "3.7.8"
  }
 },
 "nbformat": 4,
 "nbformat_minor": 5
}
