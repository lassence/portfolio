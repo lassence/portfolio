{
 "cells": [
  {
   "cell_type": "markdown",
   "metadata": {},
   "source": [
    "# Flatten JSON files with pandas"
   ]
  },
  {
   "cell_type": "markdown",
   "metadata": {},
   "source": [
    "Flattening nested JSON data and export it to CSV can often be done easily with pandas Series."
   ]
  },
  {
   "cell_type": "markdown",
   "metadata": {},
   "source": [
    "## Setup"
   ]
  },
  {
   "cell_type": "code",
   "execution_count": 1,
   "metadata": {},
   "outputs": [],
   "source": [
    "# Load libraries\n",
    "import pandas as pd\n",
    "import json"
   ]
  },
  {
   "cell_type": "code",
   "execution_count": 2,
   "metadata": {},
   "outputs": [
    {
     "data": {
      "text/plain": [
       "{'header': 'title',\n",
       " 'stuff': {'intro': 'hello',\n",
       "  'onetype': {'id': 1, 'name': 'John Doe'},\n",
       "  'othertype': {'id': 2, 'company': 'ACME'}},\n",
       " 'otherstuff': {'thing': {'first': 'this', 'second': 'that'}}}"
      ]
     },
     "execution_count": 2,
     "metadata": {},
     "output_type": "execute_result"
    }
   ],
   "source": [
    "# Load JSON file as a Dict\n",
    "with open('data/nested.json') as f:\n",
    "    raw = json.load(f)\n",
    "\n",
    "raw"
   ]
  },
  {
   "cell_type": "code",
   "execution_count": 3,
   "metadata": {},
   "outputs": [
    {
     "data": {
      "text/plain": [
       "header                        title\n",
       "stuff.intro                   hello\n",
       "stuff.onetype.id                  1\n",
       "stuff.onetype.name         John Doe\n",
       "stuff.othertype.id                2\n",
       "stuff.othertype.company        ACME\n",
       "otherstuff.thing.first         this\n",
       "otherstuff.thing.second        that\n",
       "dtype: object"
      ]
     },
     "execution_count": 3,
     "metadata": {},
     "output_type": "execute_result"
    }
   ],
   "source": [
    "# Flatten JSON, with field names separated with a dot\n",
    "flat = pd.Series(pd.json_normalize(raw, sep='.').to_dict(orient='records')[0])\n",
    "flat"
   ]
  },
  {
   "cell_type": "code",
   "execution_count": 4,
   "metadata": {},
   "outputs": [],
   "source": [
    "# Export to CSV\n",
    "pd.Series(flat).to_csv('data/flat.csv')"
   ]
  }
 ],
 "metadata": {
  "kernelspec": {
   "display_name": "Python 3",
   "language": "python",
   "name": "python3"
  },
  "language_info": {
   "codemirror_mode": {
    "name": "ipython",
    "version": 3
   },
   "file_extension": ".py",
   "mimetype": "text/x-python",
   "name": "python",
   "nbconvert_exporter": "python",
   "pygments_lexer": "ipython3",
   "version": "3.7.7"
  }
 },
 "nbformat": 4,
 "nbformat_minor": 4
}
