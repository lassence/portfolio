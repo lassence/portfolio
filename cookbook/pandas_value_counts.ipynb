{
 "cells": [
  {
   "cell_type": "markdown",
   "metadata": {},
   "source": [
    "# Tips for pandas value_counts()"
   ]
  },
  {
   "cell_type": "code",
   "execution_count": 1,
   "metadata": {},
   "outputs": [],
   "source": [
    "# Import libraries\n",
    "import numpy as np\n",
    "import pandas as pd\n",
    "\n",
    "# Generate random data\n",
    "df = pd.DataFrame({'value': np.concatenate([[i]*np.random.randint(1,20) for i in range(10)])})\n",
    "df.iloc[[3]] = np.nan"
   ]
  },
  {
   "cell_type": "markdown",
   "metadata": {},
   "source": [
    "`value_counts()` is a very handy function, that groups together values of a Series or DataFrame, and returns their count. With a few arguments, you can expand its capabilities."
   ]
  },
  {
   "cell_type": "code",
   "execution_count": 6,
   "metadata": {},
   "outputs": [
    {
     "data": {
      "text/plain": [
       "value\n",
       "3.0      17\n",
       "5.0      17\n",
       "2.0      16\n",
       "9.0      15\n",
       "6.0      13\n",
       "1.0      10\n",
       "7.0      10\n",
       "0.0       2\n",
       "4.0       2\n",
       "8.0       2\n",
       "dtype: int64"
      ]
     },
     "execution_count": 6,
     "metadata": {},
     "output_type": "execute_result"
    }
   ],
   "source": [
    "# Default behaviour\n",
    "df.value_counts()"
   ]
  },
  {
   "cell_type": "markdown",
   "metadata": {},
   "source": [
    "## Relative frequencies"
   ]
  },
  {
   "cell_type": "markdown",
   "metadata": {},
   "source": [
    "To get the relative frequencies instead of the absolue count, use `normalize=True`. This is equivalent to dividing each row by the total:"
   ]
  },
  {
   "cell_type": "code",
   "execution_count": 2,
   "metadata": {},
   "outputs": [
    {
     "data": {
      "text/plain": [
       "value\n",
       "3.0      0.163462\n",
       "5.0      0.163462\n",
       "2.0      0.153846\n",
       "9.0      0.144231\n",
       "6.0      0.125000\n",
       "1.0      0.096154\n",
       "7.0      0.096154\n",
       "0.0      0.019231\n",
       "4.0      0.019231\n",
       "8.0      0.019231\n",
       "dtype: float64"
      ]
     },
     "execution_count": 2,
     "metadata": {},
     "output_type": "execute_result"
    }
   ],
   "source": [
    "# Normalized count, i.e. relative frequency of values\n",
    "df.value_counts(normalize=True)"
   ]
  },
  {
   "cell_type": "markdown",
   "metadata": {},
   "source": [
    "## Group into buckets"
   ]
  },
  {
   "cell_type": "markdown",
   "metadata": {},
   "source": [
    "It is also possible to group values into buckets with `bins=True`, which is a quicker than calling `pd.cut`:"
   ]
  },
  {
   "cell_type": "code",
   "execution_count": 3,
   "metadata": {},
   "outputs": [
    {
     "data": {
      "text/plain": [
       "(1.8, 3.6]                      33\n",
       "(5.4, 7.2]                      23\n",
       "(3.6, 5.4]                      19\n",
       "(7.2, 9.0]                      17\n",
       "(-0.009999999999999998, 1.8]    12\n",
       "Name: value, dtype: int64"
      ]
     },
     "execution_count": 3,
     "metadata": {},
     "output_type": "execute_result"
    }
   ],
   "source": [
    "# Group values into buckets -- only works with Series\n",
    "df['value'].value_counts(bins=5)"
   ]
  },
  {
   "cell_type": "markdown",
   "metadata": {},
   "source": [
    "## Include NA values"
   ]
  },
  {
   "cell_type": "markdown",
   "metadata": {},
   "source": [
    "By default, NA values are not counted. To include them, specify `dropna=False`:"
   ]
  },
  {
   "cell_type": "code",
   "execution_count": 4,
   "metadata": {},
   "outputs": [
    {
     "data": {
      "text/plain": [
       "value\n",
       "3.0      17\n",
       "5.0      17\n",
       "2.0      16\n",
       "9.0      15\n",
       "6.0      13\n",
       "1.0      10\n",
       "7.0      10\n",
       "0.0       2\n",
       "4.0       2\n",
       "8.0       2\n",
       "dtype: int64"
      ]
     },
     "execution_count": 4,
     "metadata": {},
     "output_type": "execute_result"
    }
   ],
   "source": [
    "# Without NA\n",
    "df.value_counts()"
   ]
  },
  {
   "cell_type": "code",
   "execution_count": 5,
   "metadata": {},
   "outputs": [
    {
     "data": {
      "text/plain": [
       "3.0    17\n",
       "5.0    17\n",
       "2.0    16\n",
       "9.0    15\n",
       "6.0    13\n",
       "7.0    10\n",
       "1.0    10\n",
       "0.0     2\n",
       "4.0     2\n",
       "8.0     2\n",
       "NaN     1\n",
       "Name: value, dtype: int64"
      ]
     },
     "execution_count": 5,
     "metadata": {},
     "output_type": "execute_result"
    }
   ],
   "source": [
    "# Including NA -- only works for Series\n",
    "df['value'].value_counts(dropna=False)"
   ]
  }
 ],
 "metadata": {
  "environment": {
   "name": "common-cpu.m65",
   "type": "gcloud",
   "uri": "gcr.io/deeplearning-platform-release/base-cpu:m65"
  },
  "kernelspec": {
   "display_name": "Python 3",
   "language": "python",
   "name": "python3"
  },
  "language_info": {
   "codemirror_mode": {
    "name": "ipython",
    "version": 3
   },
   "file_extension": ".py",
   "mimetype": "text/x-python",
   "name": "python",
   "nbconvert_exporter": "python",
   "pygments_lexer": "ipython3",
   "version": "3.7.10"
  }
 },
 "nbformat": 4,
 "nbformat_minor": 4
}
