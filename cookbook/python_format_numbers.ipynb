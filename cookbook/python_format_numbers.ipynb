{
 "cells": [
  {
   "cell_type": "markdown",
   "metadata": {},
   "source": [
    "# Format numbers in Python"
   ]
  },
  {
   "cell_type": "markdown",
   "metadata": {},
   "source": [
    "## Round decimals"
   ]
  },
  {
   "cell_type": "code",
   "execution_count": 1,
   "metadata": {},
   "outputs": [
    {
     "name": "stdout",
     "output_type": "stream",
     "text": [
      "3.1416\n",
      "3.14\n",
      "3\n"
     ]
    }
   ],
   "source": [
    "# Round decimals\n",
    "print(\"{:.4f}\".format(3.14159265359))\n",
    "print(\"{:.2f}\".format(3.14159265359))\n",
    "print(\"{:.0f}\".format(3.14159265359))"
   ]
  },
  {
   "cell_type": "markdown",
   "metadata": {},
   "source": [
    "## Fixed width"
   ]
  },
  {
   "cell_type": "code",
   "execution_count": 2,
   "metadata": {},
   "outputs": [
    {
     "name": "stdout",
     "output_type": "stream",
     "text": [
      "012.76\n",
      "0012.8\n",
      "000013\n"
     ]
    }
   ],
   "source": [
    "# Fixed width, including decimals\n",
    "print(\"{:06.2f}\".format(12.7649))\n",
    "print(\"{:06.1f}\".format(12.7649))\n",
    "print(\"{:06.0f}\".format(12.7649))"
   ]
  },
  {
   "cell_type": "markdown",
   "metadata": {},
   "source": [
    "## Pad integers"
   ]
  },
  {
   "cell_type": "code",
   "execution_count": 3,
   "metadata": {},
   "outputs": [
    {
     "name": "stdout",
     "output_type": "stream",
     "text": [
      "0013\n",
      "--13\n"
     ]
    }
   ],
   "source": [
    "# Padding integers\n",
    "print(\"{:0>4d}\".format(13))\n",
    "print(\"{:->4d}\".format(13))"
   ]
  },
  {
   "cell_type": "markdown",
   "metadata": {},
   "source": [
    "## Separators for large numbers"
   ]
  },
  {
   "cell_type": "code",
   "execution_count": 4,
   "metadata": {},
   "outputs": [
    {
     "name": "stdout",
     "output_type": "stream",
     "text": [
      "1,079,252,849\n"
     ]
    }
   ],
   "source": [
    "# Separators for large numbers\n",
    "print(\"{:,.0f}\".format(1079252848.85431))"
   ]
  },
  {
   "cell_type": "markdown",
   "metadata": {},
   "source": [
    "## Scientific notation"
   ]
  },
  {
   "cell_type": "code",
   "execution_count": 5,
   "metadata": {},
   "outputs": [
    {
     "name": "stdout",
     "output_type": "stream",
     "text": [
      "1.0793e+09\n"
     ]
    }
   ],
   "source": [
    "# Scientific notation\n",
    "print(\"{:.4e}\".format(1079252848.85431))"
   ]
  },
  {
   "cell_type": "markdown",
   "metadata": {},
   "source": [
    "## Percentages"
   ]
  },
  {
   "cell_type": "code",
   "execution_count": 6,
   "metadata": {},
   "outputs": [
    {
     "name": "stdout",
     "output_type": "stream",
     "text": [
      "2.85%\n"
     ]
    }
   ],
   "source": [
    "# Percentage\n",
    "print(\"{:.2%}\".format(0.028547))"
   ]
  },
  {
   "cell_type": "markdown",
   "metadata": {},
   "source": [
    "## Signed numbers"
   ]
  },
  {
   "cell_type": "code",
   "execution_count": 7,
   "metadata": {},
   "outputs": [
    {
     "name": "stdout",
     "output_type": "stream",
     "text": [
      "+8.0942\n",
      "-8.0942\n"
     ]
    }
   ],
   "source": [
    "# Signed numbers\n",
    "print(\"{:+.4f}\".format(8.09421))\n",
    "print(\"{:+.4f}\".format(-8.09421))"
   ]
  }
 ],
 "metadata": {
  "kernelspec": {
   "display_name": "Python 3",
   "language": "python",
   "name": "python3"
  },
  "language_info": {
   "codemirror_mode": {
    "name": "ipython",
    "version": 3
   },
   "file_extension": ".py",
   "mimetype": "text/x-python",
   "name": "python",
   "nbconvert_exporter": "python",
   "pygments_lexer": "ipython3",
   "version": "3.7.7"
  }
 },
 "nbformat": 4,
 "nbformat_minor": 4
}
