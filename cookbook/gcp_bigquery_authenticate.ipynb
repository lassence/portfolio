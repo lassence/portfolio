{
 "cells": [
  {
   "cell_type": "markdown",
   "metadata": {},
   "source": [
    "# Authenticate to BigQuery in a Jupyter notebook"
   ]
  },
  {
   "cell_type": "markdown",
   "metadata": {},
   "source": [
    "If you are working on a [cloud-based Jupyter notebook](gcp_ai_notebooks.md) in AI Platform, the instance automatically has access to BigQuery in your GCP project, so you won't need to set up anything in most cases. Otherwise, run the following steps."
   ]
  },
  {
   "cell_type": "markdown",
   "metadata": {},
   "source": [
    "## Method 1: with a service account"
   ]
  },
  {
   "cell_type": "markdown",
   "metadata": {},
   "source": [
    "### Create a service account"
   ]
  },
  {
   "cell_type": "markdown",
   "metadata": {},
   "source": [
    "Follow [these steps](https://cloud.google.com/bigquery/docs/quickstarts/quickstart-client-libraries?hl=en#before-you-begin):  \n",
    "1. Enable the BigQuery API.  \n",
    "2. In the GCP console, go to the **Create service account key** page.  \n",
    "3. From the **Service account** list, select **New service account.**  \n",
    "4. In the **Service account name** field, enter a name.  \n",
    "5. From the **Role** list, select **Project > Owner.**  \n",
    "6. Click **Create**. A JSON file that contains your key downloads to your computer."
   ]
  },
  {
   "cell_type": "markdown",
   "metadata": {},
   "source": [
    "### Option A: set the environment variable"
   ]
  },
  {
   "cell_type": "markdown",
   "metadata": {},
   "source": [
    "Set the environment variable `GOOGLE_APPLICATION_CREDENTIALS` to the file you downloaded. You can do it in the Terminal, or directly on your Notebook by prefixing `!` to the command."
   ]
  },
  {
   "cell_type": "code",
   "execution_count": null,
   "metadata": {},
   "outputs": [],
   "source": [
    "# Set environment variable\n",
    "!export GOOGLE_APPLICATION_CREDENTIALS=\"ignore/bigquery_creds.json\""
   ]
  },
  {
   "cell_type": "code",
   "execution_count": null,
   "metadata": {},
   "outputs": [],
   "source": [
    "# Start BigQuery client\n",
    "from google.cloud import bigquery\n",
    "bqclient = bigquery.Client()"
   ]
  },
  {
   "cell_type": "markdown",
   "metadata": {},
   "source": [
    "### Option B: specify file location to the BigQuery client"
   ]
  },
  {
   "cell_type": "markdown",
   "metadata": {},
   "source": [
    "Instead of setting the environment variable, you can directly specify the credentials JSON file when starting BigQuery client, with `from_service_account_json()`. "
   ]
  },
  {
   "cell_type": "code",
   "execution_count": null,
   "metadata": {},
   "outputs": [],
   "source": [
    "# Start BigQuery client and specify a credentials file\n",
    "bqclient = bigquery.Client.from_service_account_json('ignore/bigquery_creds.json')"
   ]
  },
  {
   "cell_type": "markdown",
   "metadata": {},
   "source": [
    "## Method 2: as final user"
   ]
  },
  {
   "cell_type": "markdown",
   "metadata": {},
   "source": [
    "While the service account method is preferable for most situations, you might need to identify as a final user in some cases, for example to work with datasets that have been granted access to your own account."
   ]
  },
  {
   "cell_type": "markdown",
   "metadata": {},
   "source": [
    "### Set up"
   ]
  },
  {
   "cell_type": "markdown",
   "metadata": {},
   "source": [
    "1. In the GCP console, enable the BigQuery API.  \n",
    "2. Install the *google-cloud-bigquery* and *google-auth-oauthlib* Python libraries:  \n",
    "`pip install --upgrade google-cloud-bigquery google-auth-oauthlib`"
   ]
  },
  {
   "cell_type": "markdown",
   "metadata": {},
   "source": [
    "### Create your client credentials"
   ]
  },
  {
   "cell_type": "markdown",
   "metadata": {},
   "source": [
    "1. In the GCP console, go to the [OAuth consent screen](https://console.cloud.google.com/apis/credentials/consent) page.  \n",
    "2. On the Credentials page, click **Create credentials**, then select **OAuth client ID**.  \n",
    "3. Select **Other** > **Create** > **OK**.  \n",
    "4. Download the credentials by clicking the **Download JSON** button for the client ID.  \n",
    "5. Save the file as `client_secrets.json`"
   ]
  },
  {
   "cell_type": "markdown",
   "metadata": {},
   "source": [
    "### Authenticate and call the API"
   ]
  },
  {
   "cell_type": "code",
   "execution_count": null,
   "metadata": {},
   "outputs": [],
   "source": [
    "# Import library and start authentication flow\n",
    "from google_auth_oauthlib import flow\n",
    "\n",
    "appflow = flow.InstalledAppFlow.from_client_secrets_file(\n",
    "    '/Users/home/Downloads/client_secrets.json',\n",
    "    scopes=['https://www.googleapis.com/auth/bigquery'])\n",
    "\n",
    "# Authentication flow\n",
    "# If running a remote server, use `appflow.run_local_server()` instead\n",
    "appflow.run_console()   \n",
    "credentials = appflow.credentials\n",
    "\n",
    "# Start BigQuery client\n",
    "bqclient = bigquery.Client(project='my-project-id', credentials=credentials)"
   ]
  }
 ],
 "metadata": {
  "kernelspec": {
   "display_name": "Python 3",
   "language": "python",
   "name": "python3"
  },
  "language_info": {
   "codemirror_mode": {
    "name": "ipython",
    "version": 3
   },
   "file_extension": ".py",
   "mimetype": "text/x-python",
   "name": "python",
   "nbconvert_exporter": "python",
   "pygments_lexer": "ipython3",
   "version": "3.7.7"
  }
 },
 "nbformat": 4,
 "nbformat_minor": 4
}
