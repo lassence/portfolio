{
 "cells": [
  {
   "cell_type": "markdown",
   "metadata": {},
   "source": [
    "# Authenticate to Google API on a cloud-based notebook\n",
    "\n",
    "When working with Google APIs on a **AI Platform Notebook**, you cannot access `localhost` like on a local machine. \n",
    "To generate credentials, the Google Auth library gives you the option to generate a callback URL on a *remote* address. For more details, refer to this [support page](https://cloud.google.com/bigquery/docs/authentication/end-user-installed)."
   ]
  },
  {
   "cell_type": "code",
   "execution_count": 1,
   "metadata": {},
   "outputs": [],
   "source": [
    "# Import library and start authentication flow\n",
    "from google_auth_oauthlib import flow\n",
    "\n",
    "appflow = flow.InstalledAppFlow.from_client_secrets_file(\n",
    "    './client_secrets.json',\n",
    "    scopes=['https://www.googleapis.com/auth/bigquery'])"
   ]
  },
  {
   "cell_type": "markdown",
   "metadata": {},
   "source": [
    "## Running a local server"
   ]
  },
  {
   "cell_type": "markdown",
   "metadata": {},
   "source": [
    "Visit the URL, authorize your app when prompted, and the autentication process will automatically complete."
   ]
  },
  {
   "cell_type": "code",
   "execution_count": 2,
   "metadata": {},
   "outputs": [
    {
     "name": "stdout",
     "output_type": "stream",
     "text": [
      "Please visit this URL to authorize this application: https://accounts.google.com/o/oauth2/auth?response_type=code&client_id=707506262186-8li17b8ftmtls5t1da3tbqjcl6.apps.googleusercontent.com&redirect_uri=http%3A%2F%2Flocalhost%3A8080%2F&scope=https%3A%2F%2Fwww.googleapis.com%2Fauth%2Fbigquery&state=X9l4xFtJDu1R7ykeGfkFNke0S0X&access_type=offline\n"
     ]
    }
   ],
   "source": [
    "# If running a local server:\n",
    "appflow.run_local_server()"
   ]
  },
  {
   "cell_type": "markdown",
   "metadata": {},
   "source": [
    "## Running a remote server"
   ]
  },
  {
   "cell_type": "markdown",
   "metadata": {},
   "source": [
    "In this case, for example when running code on an AI Platform Notebook, you cannot use `localhost` as callback URL. Use `run_console()` instead, and after visiting the URL and authorizing your app, you will be given an authorization code to be pasted in the prompt."
   ]
  },
  {
   "cell_type": "code",
   "execution_count": 3,
   "metadata": {},
   "outputs": [
    {
     "name": "stdout",
     "output_type": "stream",
     "text": [
      "Please visit this URL to authorize this application: https://accounts.google.com/o/oauth2/auth?response_type=code&client_id=707506262186-8li17b8ftmtls5t1da3tbqjcl6.apps.googleusercontent.com&redirect_uri=urn%3Aietf%3Awg%3Aoauth%3A2.0%3Aoob&scope=https%3A%2F%2Fwww.googleapis.com%2Fauth%2Fbigquery&state=TgyqXhRch1u2vtxhfypmhEUQcuF&prompt=consent&access_type=offline\n"
     ]
    },
    {
     "name": "stdin",
     "output_type": "stream",
     "text": [
      "Enter the authorization code:  4/ywF6LRH5rJoC6f0531aNgoapZqepKtJRBOPAPMzHdF0ToBk4k\n"
     ]
    }
   ],
   "source": [
    "# If running a remote server:\n",
    "appflow.run_console()"
   ]
  }
 ],
 "metadata": {
  "kernelspec": {
   "display_name": "Python 3",
   "language": "python",
   "name": "python3"
  },
  "language_info": {
   "codemirror_mode": {
    "name": "ipython",
    "version": 3
   },
   "file_extension": ".py",
   "mimetype": "text/x-python",
   "name": "python",
   "nbconvert_exporter": "python",
   "pygments_lexer": "ipython3",
   "version": "3.7.7"
  }
 },
 "nbformat": 4,
 "nbformat_minor": 4
}
