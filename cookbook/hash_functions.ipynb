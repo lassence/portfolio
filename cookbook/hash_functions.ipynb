{
 "cells": [
  {
   "cell_type": "markdown",
   "metadata": {},
   "source": [
    "# Assign users to experiment groups with hash functions"
   ]
  },
  {
   "cell_type": "markdown",
   "metadata": {},
   "source": [
    "In the case of statistical experiments, some hash functions that produce integers can be used for easily **pseudo-randomly** and **deterministically** assign users to groups.\n",
    "\n",
    "The process works as follows:\n",
    "1. Hash a unique identifier of each user, for example their UID --> it will generate a large integer\n",
    "2. Optionally get the absolute value of the hash, because it can be negative\n",
    "3. Apply a modulo to the integer, corresponding to the number of experimentation groups that you want"
   ]
  },
  {
   "cell_type": "markdown",
   "metadata": {},
   "source": [
    "## Hash in Python"
   ]
  },
  {
   "cell_type": "markdown",
   "metadata": {},
   "source": [
    "⚠️ **Warning**: in Python, using the built-in `hash()` function will produce different outputs across sessions if you don't explicitly specify the same hash seed value every time."
   ]
  },
  {
   "cell_type": "code",
   "execution_count": 1,
   "metadata": {},
   "outputs": [
    {
     "name": "stdout",
     "output_type": "stream",
     "text": [
      "env: PYTHONHASHSEED=0\n"
     ]
    }
   ],
   "source": [
    "# Set hash seed\n",
    "%env PYTHONHASHSEED=0"
   ]
  },
  {
   "cell_type": "code",
   "execution_count": 2,
   "metadata": {},
   "outputs": [
    {
     "data": {
      "text/html": [
       "<div>\n",
       "<style scoped>\n",
       "    .dataframe tbody tr th:only-of-type {\n",
       "        vertical-align: middle;\n",
       "    }\n",
       "\n",
       "    .dataframe tbody tr th {\n",
       "        vertical-align: top;\n",
       "    }\n",
       "\n",
       "    .dataframe thead th {\n",
       "        text-align: right;\n",
       "    }\n",
       "</style>\n",
       "<table border=\"1\" class=\"dataframe\">\n",
       "  <thead>\n",
       "    <tr style=\"text-align: right;\">\n",
       "      <th></th>\n",
       "      <th>uid</th>\n",
       "    </tr>\n",
       "  </thead>\n",
       "  <tbody>\n",
       "    <tr>\n",
       "      <th>0</th>\n",
       "      <td>d4212ed3-4399-4f5b-87ab-faec4f6558f8</td>\n",
       "    </tr>\n",
       "    <tr>\n",
       "      <th>1</th>\n",
       "      <td>a9780c08-9714-4da2-a53c-6102d5f47cf7</td>\n",
       "    </tr>\n",
       "    <tr>\n",
       "      <th>2</th>\n",
       "      <td>26c6853f-cae9-4a06-849d-7df46d744e5a</td>\n",
       "    </tr>\n",
       "    <tr>\n",
       "      <th>3</th>\n",
       "      <td>efc1583b-946a-449f-a811-87d241e57bc4</td>\n",
       "    </tr>\n",
       "    <tr>\n",
       "      <th>4</th>\n",
       "      <td>60d568e2-052b-4ca3-83da-34ee00ef5c6b</td>\n",
       "    </tr>\n",
       "  </tbody>\n",
       "</table>\n",
       "</div>"
      ],
      "text/plain": [
       "                                    uid\n",
       "0  d4212ed3-4399-4f5b-87ab-faec4f6558f8\n",
       "1  a9780c08-9714-4da2-a53c-6102d5f47cf7\n",
       "2  26c6853f-cae9-4a06-849d-7df46d744e5a\n",
       "3  efc1583b-946a-449f-a811-87d241e57bc4\n",
       "4  60d568e2-052b-4ca3-83da-34ee00ef5c6b"
      ]
     },
     "execution_count": 2,
     "metadata": {},
     "output_type": "execute_result"
    }
   ],
   "source": [
    "# Import libraries\n",
    "import pandas as pd\n",
    "\n",
    "# Sample dataframe of UIDs\n",
    "df = pd.DataFrame({'uid':[\n",
    "    'd4212ed3-4399-4f5b-87ab-faec4f6558f8',\n",
    "    'a9780c08-9714-4da2-a53c-6102d5f47cf7',\n",
    "    '26c6853f-cae9-4a06-849d-7df46d744e5a',\n",
    "    'efc1583b-946a-449f-a811-87d241e57bc4',\n",
    "    '60d568e2-052b-4ca3-83da-34ee00ef5c6b'\n",
    "]})\n",
    "df"
   ]
  },
  {
   "cell_type": "code",
   "execution_count": 3,
   "metadata": {},
   "outputs": [
    {
     "data": {
      "text/html": [
       "<div>\n",
       "<style scoped>\n",
       "    .dataframe tbody tr th:only-of-type {\n",
       "        vertical-align: middle;\n",
       "    }\n",
       "\n",
       "    .dataframe tbody tr th {\n",
       "        vertical-align: top;\n",
       "    }\n",
       "\n",
       "    .dataframe thead th {\n",
       "        text-align: right;\n",
       "    }\n",
       "</style>\n",
       "<table border=\"1\" class=\"dataframe\">\n",
       "  <thead>\n",
       "    <tr style=\"text-align: right;\">\n",
       "      <th></th>\n",
       "      <th>uid</th>\n",
       "      <th>uid_hash</th>\n",
       "    </tr>\n",
       "  </thead>\n",
       "  <tbody>\n",
       "    <tr>\n",
       "      <th>0</th>\n",
       "      <td>d4212ed3-4399-4f5b-87ab-faec4f6558f8</td>\n",
       "      <td>8654918514890274169</td>\n",
       "    </tr>\n",
       "    <tr>\n",
       "      <th>1</th>\n",
       "      <td>a9780c08-9714-4da2-a53c-6102d5f47cf7</td>\n",
       "      <td>1340609583511541598</td>\n",
       "    </tr>\n",
       "    <tr>\n",
       "      <th>2</th>\n",
       "      <td>26c6853f-cae9-4a06-849d-7df46d744e5a</td>\n",
       "      <td>-1679195277781215170</td>\n",
       "    </tr>\n",
       "    <tr>\n",
       "      <th>3</th>\n",
       "      <td>efc1583b-946a-449f-a811-87d241e57bc4</td>\n",
       "      <td>-2786820932382908882</td>\n",
       "    </tr>\n",
       "    <tr>\n",
       "      <th>4</th>\n",
       "      <td>60d568e2-052b-4ca3-83da-34ee00ef5c6b</td>\n",
       "      <td>3180348019046944236</td>\n",
       "    </tr>\n",
       "  </tbody>\n",
       "</table>\n",
       "</div>"
      ],
      "text/plain": [
       "                                    uid             uid_hash\n",
       "0  d4212ed3-4399-4f5b-87ab-faec4f6558f8  8654918514890274169\n",
       "1  a9780c08-9714-4da2-a53c-6102d5f47cf7  1340609583511541598\n",
       "2  26c6853f-cae9-4a06-849d-7df46d744e5a -1679195277781215170\n",
       "3  efc1583b-946a-449f-a811-87d241e57bc4 -2786820932382908882\n",
       "4  60d568e2-052b-4ca3-83da-34ee00ef5c6b  3180348019046944236"
      ]
     },
     "execution_count": 3,
     "metadata": {},
     "output_type": "execute_result"
    }
   ],
   "source": [
    "# Step 1a: compute hash value for each user UID\n",
    "df['uid_hash'] = df['uid'].apply(hash)\n",
    "df"
   ]
  },
  {
   "cell_type": "code",
   "execution_count": 4,
   "metadata": {},
   "outputs": [
    {
     "data": {
      "text/html": [
       "<div>\n",
       "<style scoped>\n",
       "    .dataframe tbody tr th:only-of-type {\n",
       "        vertical-align: middle;\n",
       "    }\n",
       "\n",
       "    .dataframe tbody tr th {\n",
       "        vertical-align: top;\n",
       "    }\n",
       "\n",
       "    .dataframe thead th {\n",
       "        text-align: right;\n",
       "    }\n",
       "</style>\n",
       "<table border=\"1\" class=\"dataframe\">\n",
       "  <thead>\n",
       "    <tr style=\"text-align: right;\">\n",
       "      <th></th>\n",
       "      <th>uid</th>\n",
       "      <th>uid_hash</th>\n",
       "      <th>abs_hash</th>\n",
       "    </tr>\n",
       "  </thead>\n",
       "  <tbody>\n",
       "    <tr>\n",
       "      <th>0</th>\n",
       "      <td>d4212ed3-4399-4f5b-87ab-faec4f6558f8</td>\n",
       "      <td>8654918514890274169</td>\n",
       "      <td>8654918514890274169</td>\n",
       "    </tr>\n",
       "    <tr>\n",
       "      <th>1</th>\n",
       "      <td>a9780c08-9714-4da2-a53c-6102d5f47cf7</td>\n",
       "      <td>1340609583511541598</td>\n",
       "      <td>1340609583511541598</td>\n",
       "    </tr>\n",
       "    <tr>\n",
       "      <th>2</th>\n",
       "      <td>26c6853f-cae9-4a06-849d-7df46d744e5a</td>\n",
       "      <td>-1679195277781215170</td>\n",
       "      <td>1679195277781215170</td>\n",
       "    </tr>\n",
       "    <tr>\n",
       "      <th>3</th>\n",
       "      <td>efc1583b-946a-449f-a811-87d241e57bc4</td>\n",
       "      <td>-2786820932382908882</td>\n",
       "      <td>2786820932382908882</td>\n",
       "    </tr>\n",
       "    <tr>\n",
       "      <th>4</th>\n",
       "      <td>60d568e2-052b-4ca3-83da-34ee00ef5c6b</td>\n",
       "      <td>3180348019046944236</td>\n",
       "      <td>3180348019046944236</td>\n",
       "    </tr>\n",
       "  </tbody>\n",
       "</table>\n",
       "</div>"
      ],
      "text/plain": [
       "                                    uid             uid_hash  \\\n",
       "0  d4212ed3-4399-4f5b-87ab-faec4f6558f8  8654918514890274169   \n",
       "1  a9780c08-9714-4da2-a53c-6102d5f47cf7  1340609583511541598   \n",
       "2  26c6853f-cae9-4a06-849d-7df46d744e5a -1679195277781215170   \n",
       "3  efc1583b-946a-449f-a811-87d241e57bc4 -2786820932382908882   \n",
       "4  60d568e2-052b-4ca3-83da-34ee00ef5c6b  3180348019046944236   \n",
       "\n",
       "              abs_hash  \n",
       "0  8654918514890274169  \n",
       "1  1340609583511541598  \n",
       "2  1679195277781215170  \n",
       "3  2786820932382908882  \n",
       "4  3180348019046944236  "
      ]
     },
     "execution_count": 4,
     "metadata": {},
     "output_type": "execute_result"
    }
   ],
   "source": [
    "# Step 1b: get the absolute value of the hash\n",
    "df['abs_hash'] = df['uid_hash'].apply(abs)\n",
    "df"
   ]
  },
  {
   "cell_type": "code",
   "execution_count": 5,
   "metadata": {},
   "outputs": [
    {
     "data": {
      "text/html": [
       "<div>\n",
       "<style scoped>\n",
       "    .dataframe tbody tr th:only-of-type {\n",
       "        vertical-align: middle;\n",
       "    }\n",
       "\n",
       "    .dataframe tbody tr th {\n",
       "        vertical-align: top;\n",
       "    }\n",
       "\n",
       "    .dataframe thead th {\n",
       "        text-align: right;\n",
       "    }\n",
       "</style>\n",
       "<table border=\"1\" class=\"dataframe\">\n",
       "  <thead>\n",
       "    <tr style=\"text-align: right;\">\n",
       "      <th></th>\n",
       "      <th>uid</th>\n",
       "      <th>uid_hash</th>\n",
       "      <th>abs_hash</th>\n",
       "      <th>user_group</th>\n",
       "    </tr>\n",
       "  </thead>\n",
       "  <tbody>\n",
       "    <tr>\n",
       "      <th>0</th>\n",
       "      <td>d4212ed3-4399-4f5b-87ab-faec4f6558f8</td>\n",
       "      <td>8654918514890274169</td>\n",
       "      <td>8654918514890274169</td>\n",
       "      <td>4</td>\n",
       "    </tr>\n",
       "    <tr>\n",
       "      <th>1</th>\n",
       "      <td>a9780c08-9714-4da2-a53c-6102d5f47cf7</td>\n",
       "      <td>1340609583511541598</td>\n",
       "      <td>1340609583511541598</td>\n",
       "      <td>3</td>\n",
       "    </tr>\n",
       "    <tr>\n",
       "      <th>2</th>\n",
       "      <td>26c6853f-cae9-4a06-849d-7df46d744e5a</td>\n",
       "      <td>-1679195277781215170</td>\n",
       "      <td>1679195277781215170</td>\n",
       "      <td>0</td>\n",
       "    </tr>\n",
       "    <tr>\n",
       "      <th>3</th>\n",
       "      <td>efc1583b-946a-449f-a811-87d241e57bc4</td>\n",
       "      <td>-2786820932382908882</td>\n",
       "      <td>2786820932382908882</td>\n",
       "      <td>2</td>\n",
       "    </tr>\n",
       "    <tr>\n",
       "      <th>4</th>\n",
       "      <td>60d568e2-052b-4ca3-83da-34ee00ef5c6b</td>\n",
       "      <td>3180348019046944236</td>\n",
       "      <td>3180348019046944236</td>\n",
       "      <td>1</td>\n",
       "    </tr>\n",
       "  </tbody>\n",
       "</table>\n",
       "</div>"
      ],
      "text/plain": [
       "                                    uid             uid_hash  \\\n",
       "0  d4212ed3-4399-4f5b-87ab-faec4f6558f8  8654918514890274169   \n",
       "1  a9780c08-9714-4da2-a53c-6102d5f47cf7  1340609583511541598   \n",
       "2  26c6853f-cae9-4a06-849d-7df46d744e5a -1679195277781215170   \n",
       "3  efc1583b-946a-449f-a811-87d241e57bc4 -2786820932382908882   \n",
       "4  60d568e2-052b-4ca3-83da-34ee00ef5c6b  3180348019046944236   \n",
       "\n",
       "              abs_hash  user_group  \n",
       "0  8654918514890274169           4  \n",
       "1  1340609583511541598           3  \n",
       "2  1679195277781215170           0  \n",
       "3  2786820932382908882           2  \n",
       "4  3180348019046944236           1  "
      ]
     },
     "execution_count": 5,
     "metadata": {},
     "output_type": "execute_result"
    }
   ],
   "source": [
    "# Step 3: apply a modulo, to reduce each hash\n",
    "# In this example, we want 5 groups\n",
    "groups = 5\n",
    "df['user_group'] = df['abs_hash'].apply(lambda x: x % groups)\n",
    "df"
   ]
  },
  {
   "cell_type": "markdown",
   "metadata": {},
   "source": [
    "## Hash in Redshift"
   ]
  },
  {
   "cell_type": "markdown",
   "metadata": {},
   "source": [
    "Redshift provides several [hash functions](https://docs.aws.amazon.com/redshift/latest/dg/hash-functions.html), with one algorithm named [FNV](https://docs.aws.amazon.com/redshift/latest/dg/r_FNV_HASH.html) outputing integers with `FNV_HASH()`."
   ]
  },
  {
   "cell_type": "markdown",
   "metadata": {},
   "source": [
    "```sql\n",
    "-- Redshift hash with FNV_HASH() function\n",
    "SELECT\n",
    "    uid,\n",
    "    FNV_HASH(uid) AS uid_hash,\n",
    "    ABS(FNV_HASH(uid)) AS abs_hash,\n",
    "    MOD(ABS(FNV_HASH(uid)), 5) AS user_group\n",
    "FROM users\n",
    "```"
   ]
  },
  {
   "cell_type": "markdown",
   "metadata": {},
   "source": [
    "| uid                                  | uid_hash             | abs_hash            | user_group |\n",
    "|--------------------------------------|----------------------|---------------------|------------|\n",
    "| e5bc5b34-7591-440b-afe5-abd09ce9e7fc | 3227803941034506429  | 3227803941034506429 | 4          |\n",
    "| 45537e99-fb26-4f91-bc05-54609a1aaea4 | -5122133721459384104 | 5122133721459384104 | 4          |\n",
    "| dd654604-c782-4bb7-b8b1-f4d29544901d | -6617981390633479988 | 6617981390633479988 | 3          |\n",
    "| cdd58d6c-cc32-4d08-9bc2-5dbd9794a850 | -8431386626058726789 | 8431386626058726789 | 4          |\n",
    "| 312fa481-ade1-4049-a0a2-1f8fd8127038 | -6575192304779364999 | 6575192304779364999 | 4          |\n",
    "| 92a78700-1776-4bdd-9a30-3f1e2a5215ad | -3502909049117672277 | 3502909049117672277 | 2          |\n",
    "| ff9bf307-46ed-4eaa-8768-56d9bd243638 | -3896326129685120733 | 3896326129685120733 | 3          |\n",
    "| df0feb24-46fb-4413-a6dd-bc720a8404e0 | -1574156297740572233 | 1574156297740572233 | 3          |\n",
    "| c88e885f-7e07-4164-bbef-8b3e06b01c03 | -2193445785569549438 | 2193445785569549438 | 3          |\n",
    "| e6840bd5-a7f8-4bca-b3c4-dd0d063bd805 | 7232213398192042271  | 7232213398192042271 | 1          |"
   ]
  },
  {
   "cell_type": "markdown",
   "metadata": {},
   "source": [
    "## Hash in Biguery"
   ]
  },
  {
   "cell_type": "markdown",
   "metadata": {},
   "source": [
    "BigQuery provides a [deterministic fingerprinting](https://cloud.google.com/bigquery/docs/reference/standard-sql/hash_functions) based on the FarmHash library with the `FARM_FINGERPRINT()` function"
   ]
  },
  {
   "cell_type": "markdown",
   "metadata": {},
   "source": [
    "```sql\n",
    "-- BigQuery provides FARM_FINGERPRINT() for hash\n",
    "SELECT\n",
    "    uid,\n",
    "    FARM_FINGERPRINT(uid) AS uid_hash,\n",
    "    ABS(FARM_FINGERPRINT(uid)) AS abs_hash,\n",
    "    MOD(ABS(FARM_FINGERPRINT(uid)), 5) AS user_group\n",
    "FROM users\n",
    "```"
   ]
  },
  {
   "cell_type": "markdown",
   "metadata": {},
   "source": [
    "| uid                                  | uid_hash             | abs_hash            | user_group |\n",
    "|--------------------------------------|----------------------|---------------------|------------|\n",
    "| e5bc5b34-7591-440b-afe5-abd09ce9e7fc | -7787564224466934590 | 7787564224466934590 | 0          |\n",
    "| 45537e99-fb26-4f91-bc05-54609a1aaea4 | 5608318025082862745  | 5608318025082862745 | 0          |\n",
    "| dd654604-c782-4bb7-b8b1-f4d29544901d | 5934209085968642182  | 5934209085968642182 | 2          |\n",
    "| cdd58d6c-cc32-4d08-9bc2-5dbd9794a850 | -616326417315919032  | 616326417315919032  | 2          |\n",
    "| 312fa481-ade1-4049-a0a2-1f8fd8127038 | 8906102320423035382  | 8906102320423035382 | 2          |\n",
    "| 92a78700-1776-4bdd-9a30-3f1e2a5215ad | -6944503593848300382 | 6944503593848300382 | 2          |\n",
    "| ff9bf307-46ed-4eaa-8768-56d9bd243638 | 941176159813038931   | 941176159813038931  | 1          |\n",
    "| df0feb24-46fb-4413-a6dd-bc720a8404e0 | -7011198657730055701 | 7011198657730055701 | 1          |\n",
    "| c88e885f-7e07-4164-bbef-8b3e06b01c03 | -7735882866151441807 | 7735882866151441807 | 2          |\n",
    "| e6840bd5-a7f8-4bca-b3c4-dd0d063bd805 | 7843601242992569940  | 7843601242992569940 | 0          |"
   ]
  }
 ],
 "metadata": {
  "kernelspec": {
   "display_name": "Python 3",
   "language": "python",
   "name": "python3"
  },
  "language_info": {
   "codemirror_mode": {
    "name": "ipython",
    "version": 3
   },
   "file_extension": ".py",
   "mimetype": "text/x-python",
   "name": "python",
   "nbconvert_exporter": "python",
   "pygments_lexer": "ipython3",
   "version": "3.8.10"
  }
 },
 "nbformat": 4,
 "nbformat_minor": 4
}
